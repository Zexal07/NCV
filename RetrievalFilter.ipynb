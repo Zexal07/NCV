import re, json
from typing import List, Dict, Any, Optional
from transformers.pipelines import pipeline
import os
from langchain.schema import Document

# Import the VectorStoreManager from the second file
from Vectorstor_Ollama import VectorStoreManager

class RetrievalAndFiltering:
    """Module 3: Retrieval & Filtering Logic - Advanced querying with metadata filtering"""
    
    KNOWN_COMPANIES = [
        "Dangote Cement", "Maaden", "Chemplast Sanmar", "Saudi Aramco", 
        "Nestle", "Unilever", "Tata Steel", "Siemens", "Shell", "Chevron",
        "ExxonMobil", "TotalEnergies", "Reliance", "BASF", "Volkswagen", 
        "ABB", "Aramco", "Petronas", "Lucky Cement", "National Cement Company"
    ]
    
    EMISSION_SCOPES = {
        "scope_1": ["scope 1", "direct emissions", "stationary combustion", "fuel combustion"],
        "scope_2": ["scope 2", "indirect emissions", "purchased electricity", "electricity consumption"],
        "scope_3": ["scope 3", "value chain emissions", "supply chain", "downstream emissions"]
    }
    
    def __init__(self, output_dir: str = "output"):
        self.output_dir = output_dir
        
        # Initialize the actual VectorStoreManager
        self.vector_manager = VectorStoreManager(output_dir)
        
        # Initialize QA pipeline with error handling
        try:
            self.qa_pipeline = pipeline(
                "question-answering", 
                model="distilbert-base-uncased-distilled-squad",
                device=-1  # Force CPU usage
            )
            print("✅ QA pipeline initialized successfully")
        except Exception as e:
            print(f"⚠️ QA pipeline initialization failed: {e}")
            self.qa_pipeline = None
        
        # Load or create vector store
        self._initialize_vectorstore()
    
    def _initialize_vectorstore(self):
        """Initialize vector store - load existing or create new"""
        try:
            # Try to load existing vector store
            if self.vector_manager.load_vectorstore():
                print("✅ Vector store loaded successfully")
                return True
            else:
                print("⚠️ Vector store not found. Attempting to create from chunks...")
                # Try to create from existing chunks
                if self.vector_manager.create_vectorstore():
                    print("✅ Vector store created successfully")
                    return True
                else:
                    print("❌ Could not create vector store. Make sure saved_chunks.json exists.")
                    return False
        except Exception as e:
            print(f"❌ Error initializing vector store: {e}")
            return False
    
    def get_vectorstore_info(self) -> Dict[str, Any]:
        """Get information about the loaded vector store"""
        return self.vector_manager.get_vectorstore_info()
    
    def answer_question(self, question: str, top_k: int = 5) -> Dict[str, Any]:
        """Main question answering function with smart filtering"""
        try:
            # Check if vector store is available
            if not self.vector_manager.vectorstore:
                return {
                    "question": question,
                    "error": "Vector store not available. Please ensure it's properly initialized.",
                    "answer": "Unable to process question - vector store not loaded"
                }
            
            # Detect question type
            if self._is_comparison_question(question):
                return self._handle_comparison_question(question)
            else:
                return self._handle_standard_question(question, top_k)
        except Exception as e:
            return {
                "question": question,
                "error": f"Error processing question: {str(e)}",
                "answer": "Unable to process question due to system error"
            }
    
    def _handle_standard_question(self, question: str, top_k: int) -> Dict[str, Any]:
        """Handle standard Q&A with filtering"""
        try:
            # Extract entities from question
            entities = self._extract_entities_from_question(question)
            
            # Build metadata filters
            filters = self._build_metadata_filters(entities)
            
            # Query vector store using actual VectorStoreManager
            results = self.vector_manager.query_vectorstore(question, k=top_k, filters=filters)
            
            if not results:
                return {
                    "question": question,
                    "answer": "No relevant information found in the knowledge base",
                    "entities_detected": entities,
                    "filters_applied": filters,
                    "total_results": 0
                }
            
            # Process results with QA pipeline
            answers = []
            for result in results:
                try:
                    # Use QA pipeline if available
                    if self.qa_pipeline:
                        qa_result = self.qa_pipeline(inputs=question, context=result.page_content)
                    if isinstance(qa_result, list):
                        qa_result = qa_result[0]
                        answer_text = qa_result.get("answer", "No answer")
                        confidence = qa_result.get("score", 0)
                    else:
                        answer_text = self._extract_simple_answer(question, result.page_content)
                        confidence = 0.5
                    
                    # Extract numerical values if present
                    numerical_values = self._extract_numerical_values(result.page_content)
                    
                    answer_data = {
                        "answer": answer_text,
                        "confidence": confidence,
                        "context": result.page_content[:300] + "..." if len(result.page_content) > 300 else result.page_content,
                        "source": result.metadata.get("source", "Unknown"),
                        "company": result.metadata.get("company_name", "Unknown"),
                        "year": result.metadata.get("report_year", "Unknown"),
                        "page": result.metadata.get("page", "Unknown"),
                        "tags": result.metadata.get("tags", []),
                        "numerical_values": numerical_values,
                        "chunk_id": result.metadata.get("chunk_id", "Unknown")
                    }
                    answers.append(answer_data)
                    
                except Exception as e:
                    print(f"⚠️ QA processing error: {e}")
                    continue
            
            return {
                "question": question,
                "answers": answers,
                "entities_detected": entities,
                "filters_applied": filters,
                "total_results": len(results)
            }
            
        except Exception as e:
            return {
                "question": question,
                "error": f"Error in standard question handling: {str(e)}",
                "answer": "Unable to process question"
            }
    
    def _extract_simple_answer(self, question: str, context: str) -> str:
        """Simple fallback answer extraction when QA pipeline is not available"""
        # Look for sentences containing key terms from the question
        question_words = set(question.lower().split())
        sentences = context.split('.')
        
        best_sentence = ""
        max_overlap = 0
        
        for sentence in sentences:
            sentence_words = set(sentence.lower().split())
            overlap = len(question_words.intersection(sentence_words))
            if overlap > max_overlap:
                max_overlap = overlap
                best_sentence = sentence.strip()
        
        return best_sentence if best_sentence else "Information found in context"
    
    def _handle_comparison_question(self, question: str) -> Dict[str, Any]:
        """Handle comparison questions between companies/years"""
        try:
            entities = self._extract_entities_from_question(question)
            companies = entities.get("companies", [])
            years = entities.get("years", [])
            emission_scope = entities.get("emission_scope", "unknown")
            
            if len(companies) < 2 and len(years) < 2:
                return {
                    "question": question,
                    "error": "Comparison requires at least 2 companies or 2 years",
                    "entities_detected": entities
                }
            
            comparison_results = []
            
            # Compare across companies
            if len(companies) >= 2:
                for company in companies:
                    try:
                        filters = {"company_name": company}
                        if years:
                            filters["report_year"] = years[0]  # Use first year if specified
                        
                        # Create specific query
                        query = f"{company} {emission_scope.replace('_', ' ')} emissions carbon"
                        results = self.vector_manager.query_vectorstore(query, k=3, filters=filters)
                        
                        if results:
                            best_result = results[0]
                            numerical_values = self._extract_numerical_values(best_result.page_content)
                            
                            comparison_results.append({
                                "company": company,
                                "year": best_result.metadata.get("report_year", "Unknown"),
                                "emission_scope": emission_scope,
                                "context": best_result.page_content[:200],
                                "numerical_values": numerical_values,
                                "source": best_result.metadata.get("source", "Unknown"),
                                "page": best_result.metadata.get("page", "Unknown"),
                                "chunk_id": best_result.metadata.get("chunk_id", "Unknown")
                            })
                    except Exception as e:
                        print(f"⚠️ Error processing company {company}: {e}")
                        continue
            
            # Compare across years for same company
            elif len(years) >= 2 and companies:
                company = companies[0]
                for year in years:
                    try:
                        filters = {"company_name": company, "report_year": year}
                        query = f"{company} {year} {emission_scope.replace('_', ' ')} emissions"
                        results = self.vector_manager.query_vectorstore(query, k=3, filters=filters)
                        
                        if results:
                            best_result = results[0]
                            numerical_values = self._extract_numerical_values(best_result.page_content)
                            
                            comparison_results.append({
                                "company": company,
                                "year": year,
                                "emission_scope": emission_scope,
                                "context": best_result.page_content[:200],
                                "numerical_values": numerical_values,
                                "source": best_result.metadata.get("source", "Unknown"),
                                "chunk_id": best_result.metadata.get("chunk_id", "Unknown")
                            })
                    except Exception as e:
                        print(f"⚠️ Error processing year {year}: {e}")
                        continue
            
            # Calculate comparison metrics
            comparison_metrics = self._calculate_comparison_metrics(comparison_results)
            
            return {
                "question": question,
                "comparison_type": "company" if len(companies) >= 2 else "year",
                "comparison_results": comparison_results,
                "comparison_metrics": comparison_metrics,
                "entities_detected": entities
            }
            
        except Exception as e:
            return {
                "question": question,
                "error": f"Error in comparison handling: {str(e)}",
                "entities_detected": {}
            }
    
    def _extract_entities_from_question(self, question: str) -> Dict[str, Any]:
        """Extract companies, years, and emission scopes from question"""
        question_lower = question.lower()
        
        # Extract companies
        companies = []
        for company in self.KNOWN_COMPANIES:
            if company.lower() in question_lower:
                companies.append(company)
        
        # Extract years
        years = re.findall(r'\b(20\d{2}|19\d{2})\b', question)
        
        # Extract emission scope
        emission_scope = "unknown"
        for scope, keywords in self.EMISSION_SCOPES.items():
            if any(keyword in question_lower for keyword in keywords):
                emission_scope = scope
                break
        
        # Extract other relevant terms
        sustainability_keywords = [
            "emissions", "carbon", "co2", "greenhouse gas", "ghg", 
            "sustainability", "environmental", "renewable", "energy",
            "targets", "goals", "initiatives", "reduction"
        ]
        
        detected_keywords = [kw for kw in sustainability_keywords if kw in question_lower]
        
        return {
            "companies": companies,
            "years": years,
            "emission_scope": emission_scope,
            "keywords": detected_keywords
        }
    
    def _build_metadata_filters(self, entities: Dict[str, Any]) -> Dict[str, Any]:
        """Build metadata filters based on extracted entities"""
        filters = {}
        
        # Company filter
        if entities.get("companies"):
            if len(entities["companies"]) == 1:
                filters["company_name"] = entities["companies"][0]
        
        # Year filter
        if entities.get("years"):
            if len(entities["years"]) == 1:
                filters["report_year"] = entities["years"][0]
        
        return filters
    
    def _is_comparison_question(self, question: str) -> bool:
        """Detect if question is asking for comparison"""
        comparison_keywords = [
            "compare", "comparison", "versus", "vs", "difference", "between",
            "which is better", "which is higher", "which is lower", "how do",
            "both", "all", "each", "respectively"
        ]
        
        question_lower = question.lower()
        
        # Check for comparison keywords
        has_comparison_keywords = any(kw in question_lower for kw in comparison_keywords)
        
        # Check for multiple entities (companies or years)
        entities = self._extract_entities_from_question(question)
        has_multiple_entities = (
            len(entities.get("companies", [])) >= 2 or 
            len(entities.get("years", [])) >= 2
        )
        
        return has_comparison_keywords or has_multiple_entities
    
    def _extract_numerical_values(self, text: str) -> List[Dict[str, Any]]:
        """Extract numerical values with units from text"""
        # Pattern for numbers with units (including scientific notation)
        patterns = [
            r'(\d+(?:\.\d+)?(?:[eE][+-]?\d+)?)\s*(tCO2|tonnes?|tons?|Mt|Gt|kg|metric tons?|million tonnes?)',
            r'(\d+(?:\.\d+)?(?:[eE][+-]?\d+)?)\s*(GWh|MWh|kWh|TJ|GJ|MJ)',
            r'(\d+(?:\.\d+)?(?:[eE][+-]?\d+)?)\s*(%|percent|percentage)',
            r'(\d{1,3}(?:,\d{3})*(?:\.\d+)?)\s*(tCO2|tonnes?|tons?|Mt|Gt)'
        ]
        
        numerical_values = []
        
        for pattern in patterns:
            matches = re.finditer(pattern, text, re.IGNORECASE)
            for match in matches:
                value_str = match.group(1).replace(',', '')
                unit = match.group(2)
                
                try:
                    value = float(value_str)
                    numerical_values.append({
                        "value": value,
                        "unit": unit,
                        "raw_text": match.group(0),
                        "context": text[max(0, match.start()-50):match.end()+50]
                    })
                except ValueError:
                    continue
        
        return numerical_values
    
    def _calculate_comparison_metrics(self, comparison_results: List[Dict[str, Any]]) -> Dict[str, Any]:
        """Calculate comparison metrics from results"""
        if len(comparison_results) < 2:
            return {"error": "Need at least 2 results for comparison"}
        
        metrics = {
            "total_comparisons": len(comparison_results),
            "numerical_comparisons": [],
            "summary": ""
        }
        
        # Extract numerical values for comparison
        all_values = []
        for result in comparison_results:
            for num_val in result.get("numerical_values", []):
                all_values.append({
                    "value": num_val["value"],
                    "unit": num_val["unit"],
                    "company": result.get("company", "Unknown"),
                    "year": result.get("year", "Unknown"),
                    "context": num_val.get("context", "")
                })
        
        # Group by unit for meaningful comparisons
        unit_groups = {}
        for val in all_values:
            unit = val["unit"].lower()
            if unit not in unit_groups:
                unit_groups[unit] = []
            unit_groups[unit].append(val)
        
        # Calculate comparisons for each unit group
        for unit, values in unit_groups.items():
            if len(values) >= 2:
                sorted_values = sorted(values, key=lambda x: x["value"], reverse=True)
                highest = sorted_values[0]
                lowest = sorted_values[-1]
                
                comparison = {
                    "unit": unit,
                    "highest": {
                        "value": highest["value"],
                        "company": highest["company"],
                        "year": highest["year"]
                    },
                    "lowest": {
                        "value": lowest["value"],
                        "company": lowest["company"],
                        "year": lowest["year"]
                    },
                    "difference": highest["value"] - lowest["value"],
                    "percentage_difference": ((highest["value"] - lowest["value"]) / lowest["value"] * 100) if lowest["value"] > 0 else 0
                }
                metrics["numerical_comparisons"].append(comparison)
        
        # Generate summary
        if metrics["numerical_comparisons"]:
            main_comparison = metrics["numerical_comparisons"][0]
            metrics["summary"] = f"Highest: {main_comparison['highest']['company']} ({main_comparison['highest']['value']} {main_comparison['unit']}), Lowest: {main_comparison['lowest']['company']} ({main_comparison['lowest']['value']} {main_comparison['unit']})"
        
        return metrics
    
    def get_company_overview(self, company_name: str, year: Optional[str] = None) -> Dict[str, Any]:
        """Get comprehensive overview of a company's sustainability data"""
        try:
            filters = {"company_name": company_name}
            if year:
                filters["report_year"] = year
            
            # Query for different aspects
            queries = {
                "emissions": f"{company_name} emissions carbon dioxide greenhouse gas",
                "energy": f"{company_name} energy consumption renewable electricity",
                "targets": f"{company_name} targets goals sustainability climate",
                "initiatives": f"{company_name} initiatives programs environmental"
            }
            
            overview = {"company": company_name, "year": year, "sections": {}}
            
            for section, query in queries.items():
                try:
                    results = self.vector_manager.query_vectorstore(query, k=3, filters=filters)
                    
                    section_data = []
                    for result in results:
                        numerical_values = self._extract_numerical_values(result.page_content)
                        section_data.append({
                            "content": result.page_content[:400],
                            "source": result.metadata.get("source", "Unknown"),
                            "page": result.metadata.get("page", "Unknown"),
                            "chunk_id": result.metadata.get("chunk_id", "Unknown"),
                            "numerical_values": numerical_values
                        })
                    
                    overview["sections"][section] = section_data
                except Exception as e:
                    print(f"⚠️ Error querying section {section}: {e}")
                    overview["sections"][section] = []
            
            return overview
            
        except Exception as e:
            return {
                "company": company_name,
                "year": year,
                "error": f"Error generating overview: {str(e)}",
                "sections": {}
            }
    
    def search_by_metadata(self, metadata_filters: Dict, limit: int = 10) -> List[Dict[str, Any]]:
        """Search documents by metadata using VectorStoreManager"""
        try:
            results = self.vector_manager.search_by_metadata(metadata_filters, limit)
            
            # Add numerical value extraction to results
            for result in results:
                result["numerical_values"] = self._extract_numerical_values(result["content"])
            
            return results
            
        except Exception as e:
            print(f"❌ Error in metadata search: {e}")
            return []
    
    def export_query_results(self, results: Dict[str, Any], filename: str = "query_results.json"):
        """Export query results to JSON file"""
        try:
            with open(filename, 'w', encoding='utf-8') as f:
                json.dump(results, f, indent=2, ensure_ascii=False, default=str)
            print(f"✅ Results exported to {filename}")
        except Exception as e:
            print(f"❌ Export failed: {e}")

# Interactive testing function
def interactive_testing(retrieval_system):
    """Enhanced interactive testing with vector store info and metadata search"""
    print("\n🧪 Interactive Question Testing")
    print("=" * 50)
    
    # Show vector store information
    vs_info = retrieval_system.get_vectorstore_info()
    if vs_info:
        print(f"📊 Vector Store Info:")
        print(f"   Total chunks: {vs_info.get('total_chunks', 0)}")
        print(f"   Companies: {len(vs_info.get('companies', []))} available")
        print(f"   Years: {', '.join(map(str, sorted(vs_info.get('years', []))))}")
        print(f"   Sources: {len(vs_info.get('sources', []))} files")
    
    print("\n💡 Sample questions you can try:")
    print("   • What are Shell's Scope 1 emissions in 2023?")
    print("   • Compare Dangote Cement and Maaden emissions")
    print("   • How do Shell's 2022 and 2023 emissions compare?")
    print("   • What sustainability initiatives does Siemens have?")
    print("   • What are the renewable energy targets for TotalEnergies?")
    print("\n🔧 Special commands:")
    print("   • 'metadata:company_name=Shell' - Search by metadata")
    print("   • 'overview:Shell' - Get company overview")
    print("   • 'info' - Show vector store information")
    print("   • 'quit' or 'exit' to stop")
    print("-" * 50)
    
    question_count = 0
    
    while True:
        try:
            # Get user input
            user_input = input(f"\n❓ Enter your question #{question_count + 1}: ").strip()
            
            # Check for exit commands
            if user_input.lower() in ['quit', 'exit', 'q', 'stop']:
                print("\n👋 Goodbye! Thank you for testing the system.")
                break
            
            # Skip empty questions
            if not user_input:
                print("⚠️ Please enter a question or type 'quit' to exit.")
                continue
            
            # Handle special commands
            if user_input.lower() == 'info':
                vs_info = retrieval_system.get_vectorstore_info()
                if vs_info:
                    print(f"\n📊 Vector Store Information:")
                    print(f"Total chunks: {vs_info.get('total_chunks', 0)}")
                    print(f"Companies: {', '.join(vs_info.get('companies', []))}")
                    print(f"Years: {', '.join(map(str, sorted(vs_info.get('years', []))))}")
                    print(f"Sources: {len(vs_info.get('sources', []))} files")
                continue
            
            # Handle metadata search commands
            if user_input.startswith('metadata:'):
                try:
                    filter_str = user_input[9:]  # Remove 'metadata:'
                    filters = {}
                    for item in filter_str.split(','):
                        key, value = item.split('=')
                        filters[key.strip()] = value.strip()
                    
                    results = retrieval_system.search_by_metadata(filters)
                    print(f"\n🔍 Found {len(results)} chunks matching filters:")
                    for i, result in enumerate(results[:3], 1):
                        print(f"\n  📋 Result {i}:")
                        print(f"     📄 Source: {result['metadata'].get('source', 'Unknown')}")
                        print(f"     🏢 Company: {result['metadata'].get('company_name', 'Unknown')}")
                        print(f"     📅 Year: {result['metadata'].get('report_year', 'Unknown')}")
                        print(f"     📝 Content: {result['content'][:200]}...")
                        if result.get('numerical_values'):
                            print(f"     📊 Values: {len(result['numerical_values'])} numerical values found")
                except Exception as e:
                    print(f"❌ Error parsing metadata command: {e}")
                continue
            
            # Handle company overview commands
            if user_input.startswith('overview:'):
                company = user_input[9:].strip()
                if company:
                    overview = retrieval_system.get_company_overview(company)
                    print(f"\n🏢 Overview for {company}:")
                    for section, data in overview.get('sections', {}).items():
                        print(f"\n  📋 {section.title()}:")
                        if data:
                            print(f"     Found {len(data)} relevant chunks")
                            if data[0].get('numerical_values'):
                                print(f"     📊 {len(data[0]['numerical_values'])} numerical values in first result")
                        else:
                            print("     No data found")
                continue
            
            question_count += 1
            print(f"\n🔍 Processing: {user_input}")
            print("-" * 40)
            
            # Process the question
            result = retrieval_system.answer_question(user_input)
            
            # Display results
            if "error" in result:
                print(f"❌ Error: {result['error']}")
            elif "answers" in result:
                print(f"✅ Found {len(result['answers'])} answers")
                for j, answer in enumerate(result["answers"][:2], 1):  # Show top 2
                    print(f"\n  📋 Answer {j}:")
                    print(f"     💬 {answer['answer']}")
                    print(f"     🎯 Confidence: {answer['confidence']:.3f}")
                    print(f"     📄 Source: {answer['company']} - {answer['year']} ({answer['source']})")
                    print(f"     🔗 Chunk ID: {answer['chunk_id']}")
                    if answer['numerical_values']:
                        print(f"     📊 Values: {len(answer['numerical_values'])} numerical values found")
                        for val in answer['numerical_values'][:3]:  # Show first 3 values
                            print(f"        • {val['value']} {val['unit']}")
            elif "comparison_results" in result:
                print(f"📊 Comparison Results ({len(result['comparison_results'])} items)")
                for comp in result["comparison_results"]:
                    print(f"  • {comp['company']} ({comp['year']}): {len(comp['numerical_values'])} values found")
                
                if result.get("comparison_metrics", {}).get("summary"):
                    print(f"\n  📈 Summary: {result['comparison_metrics']['summary']}")
            
            # Show detected entities
            entities = result.get('entities_detected', {})
            if entities and any(entities.values()):
                print(f"\n🏷️ Entities detected:")
                for key, value in entities.items():
                    if value:
                        print(f"   - {key}: {value}")
            
            # Ask if user wants to export results
            export_choice = input("\n💾 Would you like to export these results? (y/n): ").strip().lower()
            if export_choice in ['y', 'yes']:
                filename = f"query_result_{question_count}.json"
                retrieval_system.export_query_results(result, filename)
        
        except KeyboardInterrupt:
            print("\n\n👋 Interrupted by user. Goodbye!")
            break
        except Exception as e:
            print(f"❌ Unexpected error: {e}")
            print("Please try again or type 'quit' to exit.")
    
    print(f"\n🎯 Testing completed! You asked {question_count} questions.")

# Example usage and testing
if __name__ == "__main__":
    print("🔍 Initializing Enhanced Retrieval & Filtering System")
    print("=" * 50)
    
    # Initialize the retrieval system
    try:
        retrieval_system = RetrievalAndFiltering()
        print("✅ System initialized successfully")
        
        # Show vector store info
        vs_info = retrieval_system.get_vectorstore_info()
        if vs_info:
            print(f"\n📊 Vector Store Loaded:")
            print(f"   Total chunks: {vs_info.get('total_chunks', 0)}")
            print(f"   Companies: {len(vs_info.get('companies', []))}")
            print(f"   Years: {len(vs_info.get('years', []))}")
            print(f"   Sources: {len(vs_info.get('sources', []))}")
        
    except Exception as e:
        print(f"❌ System initialization failed: {e}")
        print("Make sure you have:")
        print("1. Run document ingestion to create saved_chunks.json")
        print("2. Vector store manager file is available")
        exit(1)
    
    # Start interactive testing
    interactive_testing(retrieval_system)
